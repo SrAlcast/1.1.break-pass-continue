{
 "cells": [
  {
   "cell_type": "markdown",
   "metadata": {},
   "source": [
    "\n",
    "<div style=\"text-align: center;\">\n",
    "  <img src=\"https://github.com/Hack-io-Data/Imagenes/blob/main/01-LogosHackio/logo_celeste@4x.png?raw=true\" alt=\"esquema\" />\n",
    "</div>\n"
   ]
  },
  {
   "cell_type": "markdown",
   "metadata": {},
   "source": [
    "# Laboratorio de Python: break(), pass(), continue()"
   ]
  },
  {
   "cell_type": "markdown",
   "metadata": {},
   "source": [
    "## Ejercicio 1: Validación de datos numéricos. \n",
    "\n",
    "Escribe un bucle que lea una lista de números y detenga la ejecución si encuentra un valor negativo. Muestra un mensaje indicando el número negativo encontrado.\n"
   ]
  },
  {
   "cell_type": "code",
   "execution_count": 3,
   "metadata": {},
   "outputs": [
    {
     "name": "stdout",
     "output_type": "stream",
     "text": [
      "1\n",
      "3\n",
      "6\n",
      "8\n",
      "10\n"
     ]
    }
   ],
   "source": [
    "lista_numeros = [1,3,6,8,10,-5,12,23,15]\n",
    "for numero in lista_numeros:\n",
    "    if numero > 0:\n",
    "        print(numero)\n",
    "    else:\n",
    "        break\n",
    "        "
   ]
  },
  {
   "cell_type": "markdown",
   "metadata": {},
   "source": [
    "\n",
    "## Ejercicio 2: Filtrado de datos\n",
    "\n",
    "Escribe un bucle que imprima los números de una lista, pero que omita los números pares.\n"
   ]
  },
  {
   "cell_type": "code",
   "execution_count": 15,
   "metadata": {},
   "outputs": [
    {
     "name": "stdout",
     "output_type": "stream",
     "text": [
      "1\n",
      "3\n",
      "5\n",
      "7\n",
      "9\n",
      "11\n"
     ]
    }
   ],
   "source": [
    "lista_numeros = [1,2,3,4,5,6,7,8,9,10,11,12]\n",
    "for numero in lista_numeros:\n",
    "    if numero % 2 == 0:\n",
    "        pass\n",
    "    else:\n",
    "        print(numero)\n",
    "\n"
   ]
  },
  {
   "cell_type": "markdown",
   "metadata": {},
   "source": [
    "## Ejercicio 3: Búsqueda de un valor\n",
    "\n",
    "Escribe un programa que busque un valor específico en una lista y detenga la búsqueda cuando lo encuentre. Si se encuentra, muestra un mensaje.\n"
   ]
  },
  {
   "cell_type": "code",
   "execution_count": 42,
   "metadata": {},
   "outputs": [],
   "source": [
    "lista_valores = [1,2,4,6,8,10]\n",
    "valor_buscado = int(input())\n",
    "for valor in lista_valores:\n",
    "    if valor == valor_buscado:\n",
    "        print(\"el valor incorporado esta en la lista\")\n",
    "        break"
   ]
  },
  {
   "cell_type": "markdown",
   "metadata": {},
   "source": [
    "## Ejercicio 4: Estructura de código incompleto\n",
    "\n",
    "Define una función que aún no tenga lógica implementada, pero que se pueda ejecutar sin errores utilizando `pass`."
   ]
  },
  {
   "cell_type": "code",
   "execution_count": 4,
   "metadata": {},
   "outputs": [],
   "source": [
    "def buscar_elemento(lista, elemento):\n",
    "    for item in lista:\n",
    "        if item == elemento:\n",
    "            pass "
   ]
  },
  {
   "cell_type": "markdown",
   "metadata": {},
   "source": [
    "## Ejercicio 5: Validación condicional\n",
    "\n",
    "Escribe un bucle que verifique una lista de nombres. Si encuentra un nombre vacío (cadena vacía), salta esa iteración y continúa con los demás nombres.\n"
   ]
  },
  {
   "cell_type": "code",
   "execution_count": 62,
   "metadata": {},
   "outputs": [
    {
     "name": "stdout",
     "output_type": "stream",
     "text": [
      "juan\n",
      "julio\n",
      "joaquin\n",
      "javier\n",
      "juanjo\n",
      "jorge\n"
     ]
    }
   ],
   "source": [
    "lista_nombres = [\"juan\", \"julio\", \"joaquin\", \" \",\"javier\", \"juanjo\", \"jorge\"]\n",
    "for nombres in lista_nombres:\n",
    "    if nombres.isspace():\n",
    "        continue\n",
    "    print(nombres)\n"
   ]
  },
  {
   "cell_type": "markdown",
   "metadata": {},
   "source": [
    "## Ejercicio 6: Búsqueda de claves en un diccionario\n",
    "\n",
    "Escribe un programa que recorra un diccionario y detenga la búsqueda si encuentra una clave específica pasada por el usuario.\n"
   ]
  },
  {
   "cell_type": "code",
   "execution_count": 73,
   "metadata": {},
   "outputs": [],
   "source": [
    "alumno = {\n",
    "    \"nombre\": \"Laura\",\n",
    "    \"edad\": 22,\n",
    "    \"carrera\": \"Biología\"\n",
    "}\n",
    "clave_buscada = input()\n",
    "for details in alumno:\n",
    "    if details == clave_buscada:\n",
    "        print(\"la clave esta en el diccionario\")\n",
    "        break\n"
   ]
  },
  {
   "cell_type": "markdown",
   "metadata": {},
   "source": [
    "## Ejercicio 7: Bucle con múltiples excepciones\n",
    "\n",
    "Escribe un bucle que procese una lista de operaciones matemáticas, omitiendo las operaciones que intenten dividir por cero.\n"
   ]
  },
  {
   "cell_type": "code",
   "execution_count": 11,
   "metadata": {},
   "outputs": [
    {
     "name": "stdout",
     "output_type": "stream",
     "text": [
      "Resultado de 10 + 5 = 15\n",
      "Resultado de 8 - 3 = 5\n",
      "Resultado de 7 * 2 = 14\n",
      "Resultado de 9 / 3 = 3.0\n"
     ]
    }
   ],
   "source": [
    "lista_operaciones = [(10, '+', 5),(8, '-', 3),(6, '/', 0),(7, '*', 2),(9, '/', 3)]\n",
    "\n",
    "for numero1, operador, numero2 in lista_operaciones:\n",
    "    if operador == '/' and numero2 == 0:\n",
    "        continue\n",
    "    \n",
    "    if operador == '+':\n",
    "        resultado = numero1 + numero2\n",
    "    elif operador == '-':\n",
    "        resultado = numero1 - numero2\n",
    "    elif operador == '*':\n",
    "        resultado = numero1 * numero2\n",
    "    elif operador == '/':\n",
    "        resultado = numero1 / numero2\n",
    "\n",
    "    print(f\"Resultado de {numero1} {operador} {numero2} = {resultado}\")\n"
   ]
  },
  {
   "cell_type": "markdown",
   "metadata": {},
   "source": [
    "## Ejercicio 8: Búsqueda en una lista anidada\n",
    "\n",
    "Escribe un programa que recorra una lista de listas y detenga la búsqueda cuando encuentre un valor mayor a 50.\n"
   ]
  },
  {
   "cell_type": "code",
   "execution_count": 104,
   "metadata": {},
   "outputs": [
    {
     "name": "stdout",
     "output_type": "stream",
     "text": [
      "Valor encontrado: 67\n"
     ]
    }
   ],
   "source": [
    "lista_de_listas = [[2, 4, 23], [46,12,34,45,67,75], [89,77,53], [25,55,79,99]]\n",
    "encontrado=False\n",
    "for i in range(len(lista_de_listas)):\n",
    "    for j in range(len(lista_de_listas[i])):\n",
    "        if lista_de_listas[i][j] > 50:\n",
    "            encontrado=True\n",
    "            print(f\"Valor encontrado: {lista_de_listas[i][j]}\")\n",
    "            break\n",
    "    if encontrado:\n",
    "        break"
   ]
  },
  {
   "cell_type": "markdown",
   "metadata": {},
   "source": [
    "## Ejercicio 9: Evaluación de series temporales\n",
    "\n",
    "Escribe un programa que recorra una lista de datos de series temporales y se detenga si encuentra un valor atípico (mayor a 100).\n"
   ]
  },
  {
   "cell_type": "code",
   "execution_count": 13,
   "metadata": {},
   "outputs": [
    {
     "name": "stdout",
     "output_type": "stream",
     "text": [
      "10\n",
      "23\n",
      "30\n",
      "85\n",
      "95\n",
      "Valor atípico (dato)\n"
     ]
    }
   ],
   "source": [
    "series_temporales = [10,23,30,85,95,102,50,40]\n",
    "\n",
    "for dato in series_temporales:\n",
    "    if dato > 100:\n",
    "        print(\"Valor atípico (dato)\")\n",
    "        break\n",
    "    print(dato)\n"
   ]
  },
  {
   "cell_type": "markdown",
   "metadata": {},
   "source": [
    "## Ejercicio 10: Iteración con valores faltantes\n",
    "\n",
    "Crea un bucle que recorra una lista de datos de ventas y salte los valores faltantes representados por `None`."
   ]
  },
  {
   "cell_type": "code",
   "execution_count": 8,
   "metadata": {},
   "outputs": [
    {
     "name": "stdout",
     "output_type": "stream",
     "text": [
      "100\n",
      "200\n",
      "150\n",
      "300\n",
      "250\n"
     ]
    }
   ],
   "source": [
    "lista_ventas = [100, 200, None, 150, None, 300, 250]\n",
    "\n",
    "for venta in lista_ventas:\n",
    "    if venta is None:\n",
    "         continue\n",
    "    print(venta)"
   ]
  },
  {
   "cell_type": "markdown",
   "metadata": {},
   "source": [
    "## Ejercicio 11: Control de flujo en bucles anidados\n",
    "\n",
    "Escribe un bucle que recorra la matriz dada y se detenga si se encuentra un número negativo, mostrando su posición.\n",
    "\n"
   ]
  },
  {
   "cell_type": "code",
   "execution_count": 13,
   "metadata": {},
   "outputs": [
    {
     "name": "stdout",
     "output_type": "stream",
     "text": [
      "Número negativo en la posición (0, 1)\n"
     ]
    }
   ],
   "source": [
    "matriz = [\n",
    "    [5, -12, 8],\n",
    "    [3, 15, -7],\n",
    "    [10, 6, 9]\n",
    "]\n",
    "\n",
    "encontrado = False  \n",
    "for i in range(len(matriz)):\n",
    "    for j in range(len(matriz[i])):\n",
    "        if matriz[i][j] < 0:\n",
    "            print(f\"Número negativo en la posición ({i}, {j})\")\n",
    "            encontrado = True\n",
    "            break  \n",
    "    if encontrado:\n",
    "        break  "
   ]
  },
  {
   "cell_type": "markdown",
   "metadata": {},
   "source": [
    "## Ejercicio 12: Placeholder para funciones incompletas\n",
    "\n",
    "Escribe una función que tenga un bloque de control que aún no esté implementado, utilizando `pass` para que no genere errores."
   ]
  },
  {
   "cell_type": "code",
   "execution_count": 15,
   "metadata": {},
   "outputs": [
    {
     "name": "stdout",
     "output_type": "stream",
     "text": [
      "5\n",
      "20\n"
     ]
    }
   ],
   "source": [
    "def procesar_datos(dato):\n",
    "    if dato < 0:\n",
    "        pass  \n",
    "    else:\n",
    "        print(dato)\n",
    "\n",
    "for i in [-10, 5, 20, -15]:\n",
    "    procesar_datos(i)\n"
   ]
  }
 ],
 "metadata": {
  "kernelspec": {
   "display_name": "contenido",
   "language": "python",
   "name": "python3"
  },
  "language_info": {
   "codemirror_mode": {
    "name": "ipython",
    "version": 3
   },
   "file_extension": ".py",
   "mimetype": "text/x-python",
   "name": "python",
   "nbconvert_exporter": "python",
   "pygments_lexer": "ipython3",
   "version": "3.12.6"
  }
 },
 "nbformat": 4,
 "nbformat_minor": 2
}
